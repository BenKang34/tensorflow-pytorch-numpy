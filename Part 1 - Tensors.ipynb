{
 "cells": [
  {
   "cell_type": "markdown",
   "metadata": {
    "toc": true
   },
   "source": [
    "<h1>Table of Contents<span class=\"tocSkip\"></span></h1>\n",
    "<div class=\"toc\"><ul class=\"toc-item\"><li><span><a href=\"#Tensors\" data-toc-modified-id=\"Tensors-1\"><span class=\"toc-item-num\">1&nbsp;&nbsp;</span>Tensors</a></span></li><li><span><a href=\"#Random-Functions\" data-toc-modified-id=\"Random-Functions-2\"><span class=\"toc-item-num\">2&nbsp;&nbsp;</span>Random Functions</a></span></li><li><span><a href=\"#Ones\" data-toc-modified-id=\"Ones-3\"><span class=\"toc-item-num\">3&nbsp;&nbsp;</span>Ones</a></span></li><li><span><a href=\"#Addition\" data-toc-modified-id=\"Addition-4\"><span class=\"toc-item-num\">4&nbsp;&nbsp;</span>Addition</a></span></li><li><span><a href=\"#Reshape\" data-toc-modified-id=\"Reshape-5\"><span class=\"toc-item-num\">5&nbsp;&nbsp;</span>Reshape</a></span></li><li><span><a href=\"#From/to-numpy\" data-toc-modified-id=\"From/to-numpy-6\"><span class=\"toc-item-num\">6&nbsp;&nbsp;</span>From/to numpy</a></span></li><li><span><a href=\"#Matrix-Multiplication\" data-toc-modified-id=\"Matrix-Multiplication-7\"><span class=\"toc-item-num\">7&nbsp;&nbsp;</span>Matrix Multiplication</a></span></li></ul></div>"
   ]
  },
  {
   "cell_type": "code",
   "execution_count": 2,
   "metadata": {
    "ExecuteTime": {
     "end_time": "2020-05-23T17:26:31.492550Z",
     "start_time": "2020-05-23T17:26:25.842113Z"
    }
   },
   "outputs": [],
   "source": [
    "import tensorflow as tf\n",
    "import torch\n",
    "import numpy as np"
   ]
  },
  {
   "cell_type": "markdown",
   "metadata": {},
   "source": [
    "## Tensors\n",
    "\n",
    "It turns out neural network computations are just a bunch of linear algebra operations on *tensors*, a generalization of matrices. A vector is a 1-dimensional tensor, a matrix is a 2-dimensional tensor, an array with three indices is a 3-dimensional tensor (RGB color images for example). The fundamental data structure for neural networks are tensors and PyTorch (as well as pretty much every other deep learning framework) is built around tensors.\n",
    "\n",
    "<img src=\"assets/tensor_examples.svg\" width=600px>\n",
    "\n",
    "With the basics covered, it's time to explore how we can use PyTorch to build a simple neural network."
   ]
  },
  {
   "cell_type": "markdown",
   "metadata": {},
   "source": [
    "## Random Functions"
   ]
  },
  {
   "cell_type": "code",
   "execution_count": 3,
   "metadata": {
    "ExecuteTime": {
     "end_time": "2020-05-23T17:26:31.595280Z",
     "start_time": "2020-05-23T17:26:31.495641Z"
    }
   },
   "outputs": [
    {
     "data": {
      "text/plain": [
       "(<tf.Tensor: shape=(3, 2), dtype=float32, numpy=\n",
       " array([[0.15498841, 0.9426929 ],\n",
       "        [0.20825231, 0.6376492 ],\n",
       "        [0.92591393, 0.4118954 ]], dtype=float32)>,\n",
       " tensor([[0.4391, 0.0434],\n",
       "         [0.0618, 0.1094],\n",
       "         [0.7931, 0.3834]]),\n",
       " array([[0.09619363, 0.72100511],\n",
       "        [0.11518072, 0.99289554],\n",
       "        [0.16197249, 0.87337089]]))"
      ]
     },
     "execution_count": 3,
     "metadata": {},
     "output_type": "execute_result"
    }
   ],
   "source": [
    "x_tf = tf.random.uniform([3,2])\n",
    "x_pt = torch.rand(3,2)\n",
    "x_np = np.random.uniform(size=(3,2))\n",
    "\n",
    "x_tf, x_pt, x_np"
   ]
  },
  {
   "cell_type": "markdown",
   "metadata": {},
   "source": [
    "## Ones"
   ]
  },
  {
   "cell_type": "code",
   "execution_count": 4,
   "metadata": {
    "ExecuteTime": {
     "end_time": "2020-05-23T17:26:31.616724Z",
     "start_time": "2020-05-23T17:26:31.600885Z"
    }
   },
   "outputs": [
    {
     "data": {
      "text/plain": [
       "(<tf.Tensor: shape=(3, 2), dtype=float32, numpy=\n",
       " array([[1., 1.],\n",
       "        [1., 1.],\n",
       "        [1., 1.]], dtype=float32)>,\n",
       " tensor([[1., 1.],\n",
       "         [1., 1.],\n",
       "         [1., 1.]]),\n",
       " array([[1., 1.],\n",
       "        [1., 1.],\n",
       "        [1., 1.]]))"
      ]
     },
     "execution_count": 4,
     "metadata": {},
     "output_type": "execute_result"
    }
   ],
   "source": [
    "ones_tf = tf.ones(x_tf.shape)\n",
    "ones_pt = torch.ones(x_pt.size()) #shape also works\n",
    "ones_np = np.ones(x_np.shape)\n",
    "\n",
    "ones_tf, ones_pt, ones_np"
   ]
  },
  {
   "cell_type": "markdown",
   "metadata": {},
   "source": [
    "## Addition"
   ]
  },
  {
   "cell_type": "code",
   "execution_count": 5,
   "metadata": {
    "ExecuteTime": {
     "end_time": "2020-05-23T17:26:34.068031Z",
     "start_time": "2020-05-23T17:26:34.058533Z"
    }
   },
   "outputs": [
    {
     "data": {
      "text/plain": [
       "(<tf.Tensor: shape=(3, 2), dtype=float32, numpy=\n",
       " array([[1.1549884, 1.9426929],\n",
       "        [1.2082523, 1.6376492],\n",
       "        [1.9259139, 1.4118954]], dtype=float32)>,\n",
       " tensor([[1.4391, 1.0434],\n",
       "         [1.0618, 1.1094],\n",
       "         [1.7931, 1.3834]]),\n",
       " array([[1.09619363, 1.72100511],\n",
       "        [1.11518072, 1.99289554],\n",
       "        [1.16197249, 1.87337089]]))"
      ]
     },
     "execution_count": 5,
     "metadata": {},
     "output_type": "execute_result"
    }
   ],
   "source": [
    "z_tf = x_tf + ones_tf\n",
    "z_pt = x_pt + ones_pt\n",
    "z_np = x_np + ones_np\n",
    "\n",
    "z_tf, z_pt, z_np"
   ]
  },
  {
   "cell_type": "code",
   "execution_count": 6,
   "metadata": {
    "ExecuteTime": {
     "end_time": "2020-05-23T17:26:35.091621Z",
     "start_time": "2020-05-23T17:26:35.082906Z"
    }
   },
   "outputs": [
    {
     "data": {
      "text/plain": [
       "(<tf.Tensor: shape=(2,), dtype=float32, numpy=array([1.1549884, 1.9426929], dtype=float32)>,\n",
       " tensor([1.4391, 1.0434]),\n",
       " array([1.09619363, 1.72100511]))"
      ]
     },
     "execution_count": 6,
     "metadata": {},
     "output_type": "execute_result"
    }
   ],
   "source": [
    "z_tf[0], z_pt[0], z_np[0]"
   ]
  },
  {
   "cell_type": "code",
   "execution_count": 7,
   "metadata": {
    "ExecuteTime": {
     "end_time": "2020-05-23T17:26:36.170419Z",
     "start_time": "2020-05-23T17:26:36.161352Z"
    }
   },
   "outputs": [
    {
     "data": {
      "text/plain": [
       "(<tf.Tensor: shape=(3, 2), dtype=float32, numpy=\n",
       " array([[2.1549883, 2.9426928],\n",
       "        [2.2082524, 2.637649 ],\n",
       "        [2.9259138, 2.4118953]], dtype=float32)>,\n",
       " tensor([[2.4391, 2.0434],\n",
       "         [2.0618, 2.1094],\n",
       "         [2.7931, 2.3834]]),\n",
       " array([[2.09619363, 2.72100511],\n",
       "        [2.11518072, 2.99289554],\n",
       "        [2.16197249, 2.87337089]]))"
      ]
     },
     "execution_count": 7,
     "metadata": {},
     "output_type": "execute_result"
    }
   ],
   "source": [
    "z_tf + 1, z_pt + 1, z_np + 1"
   ]
  },
  {
   "cell_type": "code",
   "execution_count": 8,
   "metadata": {
    "ExecuteTime": {
     "end_time": "2020-05-23T17:26:39.043301Z",
     "start_time": "2020-05-23T17:26:39.035114Z"
    }
   },
   "outputs": [
    {
     "data": {
      "text/plain": [
       "tensor([[2.4391, 2.0434],\n",
       "        [2.0618, 2.1094],\n",
       "        [2.7931, 2.3834]])"
      ]
     },
     "execution_count": 8,
     "metadata": {},
     "output_type": "execute_result"
    }
   ],
   "source": [
    "z_pt.add_(1) # Works in-place"
   ]
  },
  {
   "cell_type": "markdown",
   "metadata": {},
   "source": [
    "## Reshape"
   ]
  },
  {
   "cell_type": "code",
   "execution_count": 9,
   "metadata": {
    "ExecuteTime": {
     "end_time": "2020-05-23T17:26:41.627969Z",
     "start_time": "2020-05-23T17:26:41.617579Z"
    }
   },
   "outputs": [
    {
     "data": {
      "text/plain": [
       "(<tf.Tensor: shape=(2, 3), dtype=float32, numpy=\n",
       " array([[1.1549884, 1.9426929, 1.2082523],\n",
       "        [1.6376492, 1.9259139, 1.4118954]], dtype=float32)>,\n",
       " tensor([[2.4391, 2.0434, 2.0618],\n",
       "         [2.1094, 2.7931, 2.3834]]),\n",
       " array([[1.09619363, 1.72100511, 1.11518072],\n",
       "        [1.99289554, 1.16197249, 1.87337089]]))"
      ]
     },
     "execution_count": 9,
     "metadata": {},
     "output_type": "execute_result"
    }
   ],
   "source": [
    "new_shape = (2,3)\n",
    "tf.reshape(z_tf,new_shape), z_pt.reshape(new_shape), z_np.reshape(new_shape)"
   ]
  },
  {
   "cell_type": "markdown",
   "metadata": {},
   "source": [
    "Reshaping tensors is a really common operation. First to get the size and shape of a tensor use `.size()`. Then, to reshape a tensor, use `.resize_()`. Notice the underscore, reshaping is an in-place operation."
   ]
  },
  {
   "cell_type": "code",
   "execution_count": 10,
   "metadata": {
    "ExecuteTime": {
     "end_time": "2020-05-23T17:26:43.962258Z",
     "start_time": "2020-05-23T17:26:43.953947Z"
    },
    "scrolled": true
   },
   "outputs": [
    {
     "data": {
      "text/plain": [
       "tensor([[2.4391, 2.0434, 2.0618],\n",
       "        [2.1094, 2.7931, 2.3834]])"
      ]
     },
     "execution_count": 10,
     "metadata": {},
     "output_type": "execute_result"
    }
   ],
   "source": [
    "z_pt.resize_(new_shape)"
   ]
  },
  {
   "cell_type": "code",
   "execution_count": 11,
   "metadata": {
    "ExecuteTime": {
     "end_time": "2020-05-23T17:26:45.449181Z",
     "start_time": "2020-05-23T17:26:45.442832Z"
    }
   },
   "outputs": [
    {
     "data": {
      "text/plain": [
       "tensor([[2.4391, 2.0434, 2.0618],\n",
       "        [2.1094, 2.7931, 2.3834]])"
      ]
     },
     "execution_count": 11,
     "metadata": {},
     "output_type": "execute_result"
    }
   ],
   "source": [
    "z_pt"
   ]
  },
  {
   "cell_type": "markdown",
   "metadata": {},
   "source": [
    "## From/to numpy"
   ]
  },
  {
   "cell_type": "code",
   "execution_count": 16,
   "metadata": {
    "ExecuteTime": {
     "end_time": "2020-05-23T17:28:26.327240Z",
     "start_time": "2020-05-23T17:28:26.308282Z"
    }
   },
   "outputs": [
    {
     "data": {
      "text/plain": [
       "(<tf.Variable 'Variable:0' shape=(3, 2) dtype=float64, numpy=\n",
       " array([[1.09619363, 1.72100511],\n",
       "        [1.11518072, 1.99289554],\n",
       "        [1.16197249, 1.87337089]])>,\n",
       " <TensorSliceDataset shapes: (2,), types: tf.float64>,\n",
       " tensor([[1.0962, 1.7210],\n",
       "         [1.1152, 1.9929],\n",
       "         [1.1620, 1.8734]], dtype=torch.float64))"
      ]
     },
     "execution_count": 16,
     "metadata": {},
     "output_type": "execute_result"
    }
   ],
   "source": [
    "b_tf = tf.Variable(z_np)\n",
    "b_tf_dataset = tf.data.Dataset.from_tensor_slices(z_np)\n",
    "b_pt = torch.from_numpy(z_np)\n",
    "\n",
    "b_tf, b_tf_dataset, b_pt"
   ]
  },
  {
   "cell_type": "code",
   "execution_count": 34,
   "metadata": {
    "ExecuteTime": {
     "end_time": "2020-05-23T17:47:08.229492Z",
     "start_time": "2020-05-23T17:47:08.222509Z"
    }
   },
   "outputs": [
    {
     "data": {
      "text/plain": [
       "tensor([[1.0962, 1.7210],\n",
       "        [1.1152, 1.9929],\n",
       "        [1.1620, 1.8734]], dtype=torch.float64)"
      ]
     },
     "execution_count": 34,
     "metadata": {},
     "output_type": "execute_result"
    }
   ],
   "source": [
    "torch.as_tensor(z_np) # Avoids copy from numpy array"
   ]
  },
  {
   "cell_type": "code",
   "execution_count": 35,
   "metadata": {
    "ExecuteTime": {
     "end_time": "2020-05-23T17:47:16.693932Z",
     "start_time": "2020-05-23T17:47:16.687068Z"
    }
   },
   "outputs": [
    {
     "data": {
      "text/plain": [
       "tensor([[1.0962, 1.7210],\n",
       "        [1.1152, 1.9929],\n",
       "        [1.1620, 1.8734]], dtype=torch.float64)"
      ]
     },
     "execution_count": 35,
     "metadata": {},
     "output_type": "execute_result"
    }
   ],
   "source": [
    "torch.tensor(z_np) # Copies numpy array"
   ]
  },
  {
   "cell_type": "code",
   "execution_count": 21,
   "metadata": {
    "ExecuteTime": {
     "end_time": "2020-05-23T17:29:59.581713Z",
     "start_time": "2020-05-23T17:29:59.473076Z"
    }
   },
   "outputs": [
    {
     "name": "stdout",
     "output_type": "stream",
     "text": [
      "tf.Tensor([1.09619363 1.72100511], shape=(2,), dtype=float64)\n",
      "tf.Tensor([1.11518072 1.99289554], shape=(2,), dtype=float64)\n",
      "tf.Tensor([1.16197249 1.87337089], shape=(2,), dtype=float64)\n"
     ]
    }
   ],
   "source": [
    "for x in b_tf_dataset.take(3):\n",
    "    print(x)"
   ]
  },
  {
   "cell_type": "code",
   "execution_count": 23,
   "metadata": {
    "ExecuteTime": {
     "end_time": "2020-05-23T17:30:47.998648Z",
     "start_time": "2020-05-23T17:30:47.990491Z"
    }
   },
   "outputs": [
    {
     "data": {
      "text/plain": [
       "(array([[1.09619363, 1.72100511],\n",
       "        [1.11518072, 1.99289554],\n",
       "        [1.16197249, 1.87337089]]),\n",
       " array([[1.09619363, 1.72100511],\n",
       "        [1.11518072, 1.99289554],\n",
       "        [1.16197249, 1.87337089]]))"
      ]
     },
     "execution_count": 23,
     "metadata": {},
     "output_type": "execute_result"
    }
   ],
   "source": [
    "b_tf.numpy(), b_pt.numpy()"
   ]
  },
  {
   "cell_type": "markdown",
   "metadata": {},
   "source": [
    "## Matrix Multiplication"
   ]
  },
  {
   "cell_type": "code",
   "execution_count": 26,
   "metadata": {
    "ExecuteTime": {
     "end_time": "2020-05-23T17:34:04.589443Z",
     "start_time": "2020-05-23T17:34:04.554379Z"
    }
   },
   "outputs": [
    {
     "data": {
      "text/plain": [
       "<tf.Tensor: shape=(2, 2), dtype=float64, numpy=\n",
       "array([[ 3.79544855,  6.28579894],\n",
       "       [ 6.28579894, 10.44300973]])>"
      ]
     },
     "execution_count": 26,
     "metadata": {},
     "output_type": "execute_result"
    }
   ],
   "source": [
    "tf.matmul(b_tf, b_tf, transpose_a=True)"
   ]
  },
  {
   "cell_type": "code",
   "execution_count": 28,
   "metadata": {
    "ExecuteTime": {
     "end_time": "2020-05-23T17:34:43.052796Z",
     "start_time": "2020-05-23T17:34:43.020108Z"
    }
   },
   "outputs": [
    {
     "data": {
      "text/plain": [
       "tensor([[ 3.7954,  6.2858],\n",
       "        [ 6.2858, 10.4430]], dtype=torch.float64)"
      ]
     },
     "execution_count": 28,
     "metadata": {},
     "output_type": "execute_result"
    }
   ],
   "source": [
    "torch.matmul(b_pt.T,b_pt)"
   ]
  },
  {
   "cell_type": "code",
   "execution_count": 31,
   "metadata": {
    "ExecuteTime": {
     "end_time": "2020-05-23T17:38:58.228381Z",
     "start_time": "2020-05-23T17:38:58.215603Z"
    }
   },
   "outputs": [
    {
     "data": {
      "text/plain": [
       "<tf.Tensor: shape=(2, 2), dtype=float64, numpy=\n",
       "array([[ 3.79544855,  6.28579894],\n",
       "       [ 6.28579894, 10.44300973]])>"
      ]
     },
     "execution_count": 31,
     "metadata": {},
     "output_type": "execute_result"
    }
   ],
   "source": [
    "tf.linalg.matrix_transpose(b_tf) @ b_tf"
   ]
  },
  {
   "cell_type": "code",
   "execution_count": 32,
   "metadata": {
    "ExecuteTime": {
     "end_time": "2020-05-23T17:39:18.175495Z",
     "start_time": "2020-05-23T17:39:18.168092Z"
    }
   },
   "outputs": [
    {
     "data": {
      "text/plain": [
       "tensor([[ 3.7954,  6.2858],\n",
       "        [ 6.2858, 10.4430]], dtype=torch.float64)"
      ]
     },
     "execution_count": 32,
     "metadata": {},
     "output_type": "execute_result"
    }
   ],
   "source": [
    "b_pt.T @ b_pt"
   ]
  },
  {
   "cell_type": "code",
   "execution_count": 33,
   "metadata": {
    "ExecuteTime": {
     "end_time": "2020-05-23T17:39:39.577683Z",
     "start_time": "2020-05-23T17:39:39.558564Z"
    }
   },
   "outputs": [
    {
     "data": {
      "text/plain": [
       "array([[ 3.79544855,  6.28579894],\n",
       "       [ 6.28579894, 10.44300973]])"
      ]
     },
     "execution_count": 33,
     "metadata": {},
     "output_type": "execute_result"
    }
   ],
   "source": [
    "z_np.T @ z_np"
   ]
  }
 ],
 "metadata": {
  "kernelspec": {
   "display_name": "Python 3.7 (Pytorch)",
   "language": "python",
   "name": "py37_pytorch"
  },
  "language_info": {
   "codemirror_mode": {
    "name": "ipython",
    "version": 3
   },
   "file_extension": ".py",
   "mimetype": "text/x-python",
   "name": "python",
   "nbconvert_exporter": "python",
   "pygments_lexer": "ipython3",
   "version": "3.7.7"
  },
  "toc": {
   "base_numbering": 1,
   "nav_menu": {},
   "number_sections": true,
   "sideBar": true,
   "skip_h1_title": false,
   "title_cell": "Table of Contents",
   "title_sidebar": "Contents",
   "toc_cell": true,
   "toc_position": {
    "height": "calc(100% - 180px)",
    "left": "10px",
    "top": "150px",
    "width": "418px"
   },
   "toc_section_display": true,
   "toc_window_display": true
  }
 },
 "nbformat": 4,
 "nbformat_minor": 4
}
